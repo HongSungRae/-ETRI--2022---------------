{
 "cells": [
  {
   "cell_type": "markdown",
   "metadata": {},
   "source": [
    "# 데이터 전처리코드\n",
    "- 데이터를 우리 목적에 맞게 사용할 수 있도록 정제합니다\n",
    "- 다음의 사항을 꼭 마친 후 코드를 순서대로 실행하면 됩니다\n",
    "\n",
    "1. requirment.txt의 library를 모두 설치합니다.\n",
    "```\n",
    "$ pip install -r requirements.txt\n",
    "```\n",
    "2. [여기](https://nanum.etri.re.kr/share/kjnoh/KEMDy19?lang=ko_KR)에서 데이터 신청하고 다운로드합니다.\n",
    "3. 압축해제하고 ./data/ 에 KEMDy19 폴더를 옮겨줍니다.\n",
    "4. 추가로 미리 가공한 annotation data를 KEMDy19 폴더에 넣어줍니다. \\\n",
    "\n",
    "\n",
    "__이제 준비 완료입니다__"
   ]
  },
  {
   "cell_type": "markdown",
   "metadata": {},
   "source": [
    "# 1. wav 옮기기"
   ]
  },
  {
   "cell_type": "code",
   "execution_count": null,
   "metadata": {},
   "outputs": [],
   "source": [
    "import os\n",
    "from glob import glob\n",
    "import shutil\n",
    "import librosa\n",
    "import librosa.display\n",
    "import matplotlib.pyplot as plt\n",
    "import pandas as pd\n",
    "import numpy as np\n",
    "import torch\n",
    "import torch.nn as nn\n",
    "import sys"
   ]
  },
  {
   "cell_type": "code",
   "execution_count": null,
   "metadata": {},
   "outputs": [],
   "source": [
    "if not os.path.exists('./audio'):\n",
    "        os.makedirs('./audio')\n",
    "else:\n",
    "    sys.exit('이미 audio dir가 존재합니다. 폴더를 삭제후에 다시 진행하세요')\n",
    "for audio in glob('./data/KEMDy19/wav/*/*/*.wav'):\n",
    "    new_audio = audio.split('\\\\')[-1]\n",
    "    shutil.move(audio, f'./audio/{new_audio}')"
   ]
  },
  {
   "cell_type": "markdown",
   "metadata": {},
   "source": [
    "# 2. df annoatation 전처리"
   ]
  },
  {
   "cell_type": "code",
   "execution_count": null,
   "metadata": {},
   "outputs": [],
   "source": [
    "df = pd.read_csv('./data/KEMDy19/annotation.csv')\n",
    "del df['Unnamed: 0'], df['Unnamed: 0.1'] , df['Unnamed: 0.1.1']\n",
    "\n",
    "df_speaker = df[df['role']=='speaker']\n",
    "df_listener = df[df['role']=='listener']\n",
    "\n",
    "print(len(df_speaker)) # 10279\n",
    "print(len(df_listener)) # 10287\n",
    "print(len(df),len(df_listener)+len(df_speaker)) # 같이야한다"
   ]
  },
  {
   "cell_type": "code",
   "execution_count": null,
   "metadata": {},
   "outputs": [],
   "source": [
    "df_listener = df_listener.drop(df_listener[df_listener['Segment ID']=='Sess04_impro03_F031'].index)\n",
    "df_listener = df_listener.drop(df_listener[df_listener['Segment ID']=='Sess04_impro03_M031'].index)"
   ]
  },
  {
   "cell_type": "code",
   "execution_count": null,
   "metadata": {},
   "outputs": [],
   "source": [
    "df_speaker.to_csv('./data/KEMDy19/df_speaker.csv',index=False,encoding='utf-8')\n",
    "df_listener.to_csv('./data/KEMDy19/df_listener.csv',index=False,encoding='utf-8')\n",
    "\n",
    "# df_speaker = pd.read_csv('./data/KEMDy19/df_speaker.csv')\n",
    "# 부르는건 이렇게 부르면 된다"
   ]
  }
 ],
 "metadata": {
  "language_info": {
   "name": "python"
  },
  "orig_nbformat": 4
 },
 "nbformat": 4,
 "nbformat_minor": 2
}
